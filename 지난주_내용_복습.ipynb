{
  "nbformat": 4,
  "nbformat_minor": 0,
  "metadata": {
    "colab": {
      "name": "지난주_내용_복습.ipynb",
      "provenance": [],
      "authorship_tag": "ABX9TyPfLlicMyWZ2qhxcl1oeysE",
      "include_colab_link": true
    },
    "kernelspec": {
      "name": "python3",
      "display_name": "Python 3"
    },
    "language_info": {
      "name": "python"
    }
  },
  "cells": [
    {
      "cell_type": "markdown",
      "metadata": {
        "id": "view-in-github",
        "colab_type": "text"
      },
      "source": [
        "<a href=\"https://colab.research.google.com/github/ozyeon/DataTranslator_2022_w5/blob/main/%EC%A7%80%EB%82%9C%EC%A3%BC_%EB%82%B4%EC%9A%A9_%EB%B3%B5%EC%8A%B5.ipynb\" target=\"_parent\"><img src=\"https://colab.research.google.com/assets/colab-badge.svg\" alt=\"Open In Colab\"/></a>"
      ]
    },
    {
      "cell_type": "markdown",
      "source": [
        "## 비지도학습\n",
        "- 군집\n",
        "  - 그래프\n",
        "- 패턴\n",
        "  - 추천\n",
        "    1. user - item - rating(점수)\n",
        "    2. user / item\n",
        "      - User based Collaborative Filtering(UBCF, 협업필터링): 비슷한 유저 찾기\n",
        "      - Item based Collaborative Filtering(IBCF): 비슷한 아이템 찾기(UBCF보다 좀 더 안정적)\n",
        "    3. 유사도\n",
        "      - Pearson\n",
        "      - Cosine\n",
        "      - Jaccard: binary 변수처럼 단순한 경우에 사용\n",
        "    4. 행렬계산\n"
      ],
      "metadata": {
        "id": "rvwdvUsqE24u"
      }
    },
    {
      "cell_type": "code",
      "source": [
        "import pandas as pd\n",
        "import numpy as np\n",
        "\n",
        "# 1. get_dummies\n",
        "df1 = pd.DataFrame({'C1':[\"A\",\"B\",\"A\"]})\n",
        "print(\"get dummies:\\n\",pd.get_dummies(df1.C1))  # 범주형 -> 숫자형\n",
        "\n",
        "# 2. Data Frame\n",
        "print(\"data frame:\\n\",pd.concat([df1,df1], axis=1))\n",
        "\n",
        "# 3. Array\n",
        "ar = np.array([[1,2],[3,4]])\n",
        "print(\"array:\\n\",np.concatenate([ar,ar],axis=0))  # 1은 열 추가, 0은 행 추가"
      ],
      "metadata": {
        "colab": {
          "base_uri": "https://localhost:8080/"
        },
        "id": "3NmBZLXnN3Ew",
        "outputId": "6fbbcaad-9cb3-43f4-ee7e-c2e3c7919f0d"
      },
      "execution_count": 11,
      "outputs": [
        {
          "output_type": "stream",
          "name": "stdout",
          "text": [
            "get dummies:\n",
            "    A  B\n",
            "0  1  0\n",
            "1  0  1\n",
            "2  1  0\n",
            "data frame:\n",
            "   C1 C1\n",
            "0  A  A\n",
            "1  B  B\n",
            "2  A  A\n",
            "array:\n",
            " [[1 2]\n",
            " [3 4]\n",
            " [1 2]\n",
            " [3 4]]\n"
          ]
        }
      ]
    }
  ]
}